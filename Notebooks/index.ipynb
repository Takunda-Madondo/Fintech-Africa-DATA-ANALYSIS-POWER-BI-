{
 "cells": [
  {
   "cell_type": "code",
   "execution_count": null,
   "id": "7cc67912",
   "metadata": {},
   "outputs": [],
   "source": [
    "import pandas as pd\n",
    "import numpy as np\n",
    "import seaborn as sns\n",
    "import matplotlib.pyplot as plt"
   ]
  },
  {
   "cell_type": "code",
   "execution_count": null,
   "id": "c2bd24b4",
   "metadata": {},
   "outputs": [],
   "source": [
    "df = pd.read_csv('../datasets/fintech_usage_africa.csv')"
   ]
  },
  {
   "cell_type": "code",
   "execution_count": null,
   "id": "c611fdda",
   "metadata": {},
   "outputs": [],
   "source": []
  }
 ],
 "metadata": {
  "kernelspec": {
   "display_name": "myvenv (3.13.3)",
   "language": "python",
   "name": "python3"
  },
  "language_info": {
   "name": "python",
   "version": "3.13.3"
  }
 },
 "nbformat": 4,
 "nbformat_minor": 5
}
